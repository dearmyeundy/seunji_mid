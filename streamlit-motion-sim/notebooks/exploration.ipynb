{
 "cells": [
  {
   "cell_type": "markdown",
   "metadata": {},
   "source": [
    "# Exploration of Motion Simulations\n",
    "\n",
    "This notebook is designed for exploratory data analysis and testing of the simulation logic for uniform motion and free fall. It allows users to visualize the effects of different parameters on the motion of objects."
   ]
  },
  {
   "cell_type": "code",
   "execution_count": 1,
   "metadata": {},
   "outputs": [],
   "source": [
    "# Import necessary libraries\n",
    "import numpy as np\n",
    "import matplotlib.pyplot as plt\n",
    "import pandas as pd\n",
    "\n",
    "# Set up parameters for uniform motion\n",
    "def uniform_motion(initial_velocity, acceleration, time):\n",
    "    time_array = np.linspace(0, time, num=100)\n",
    "    position = initial_velocity * time_array + 0.5 * acceleration * time_array**2\n",
    "    velocity = initial_velocity + acceleration * time_array\n",
    "    return time_array, position, velocity\n",
    "\n",
    "# Set up parameters for free fall\n",
    "def free_fall(initial_height, time):\n",
    "    g = 9.81  # acceleration due to gravity (m/s^2)\n",
    "    time_array = np.linspace(0, time, num=100)\n",
    "    position = initial_height - 0.5 * g * time_array**2\n",
    "    velocity = -g * time_array\n",
    "    return time_array, position, velocity\n",
    "\n",
    "# Example parameters\n",
    "initial_velocity = 10  # m/s\n",
    "acceleration = 2  # m/s^2\n",
    "time = 5  # seconds\n",
    "initial_height = 100  # meters\n",
    "\n",
    "# Simulate uniform motion\n",
    "time_array_uniform, position_uniform, velocity_uniform = uniform_motion(initial_velocity, acceleration, time)\n",
    "\n",
    "# Simulate free fall\n",
    "time_array_fall, position_fall, velocity_fall = free_fall(initial_height, time)\n",
    "\n",
    "# Plotting the results\n",
    "plt.figure(figsize=(12, 6))\n",
    "\n",
    "# Velocity-Time Graph\n",
    "plt.subplot(1, 2, 1)\n",
    "plt.plot(time_array_uniform, velocity_uniform, label='Uniform Motion', color='blue')\n",
    "plt.plot(time_array_fall, velocity_fall, label='Free Fall', color='red')\n",
    "plt.title('Velocity-Time Graph')\n",
    "plt.xlabel('Time (s)')\n",
    "plt.ylabel('Velocity (m/s)')\n",
    "plt.legend()\n",
    "plt.grid()\n",
    "\n",
    "# Position-Time Graph\n",
    "plt.subplot(1, 2, 2)\n",
    "plt.plot(time_array_uniform, position_uniform, label='Uniform Motion', color='blue')\n",
    "plt.plot(time_array_fall, position_fall, label='Free Fall', color='red')\n",
    "plt.title('Position-Time Graph')\n",
    "plt.xlabel('Time (s)')\n",
    "plt.ylabel('Position (m)')\n",
    "plt.legend()\n",
    "plt.grid()\n",
    "\n",
    "plt.tight_layout()\n",
    "plt.show()"
   ]
  }
 ],
 "metadata": {
  "kernelspec": {
   "display_name": "Python 3",
   "language": "python",
   "name": "python3"
  },
  "language_info": {
   "codemirror_mode": {
    "name": "ipython",
    "version": 3
   },
   "file_extension": ".py",
   "mimetype": "text/x-python",
   "name": "python",
   "nbconvert_exporter": "python",
   "pygments_lexer": "ipython3",
   "version": "3.8.5"
  }
 },
 "nbformat": 4,
 "nbformat_minor": 4
}